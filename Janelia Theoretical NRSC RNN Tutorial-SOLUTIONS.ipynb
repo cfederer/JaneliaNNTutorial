{
 "cells": [
  {
   "cell_type": "markdown",
   "metadata": {
    "collapsed": true
   },
   "source": [
    "### Callie Federer Tutorial\n",
    "### Janelia Theoretical Neuroscience Workshop 10.18.17\n",
    "\n",
    "This tutorial was created with Python 3 (but there should be minimal if any changes using Python 2). The only required packages are numpy, matplotlib.pyplot and copy"
   ]
  },
  {
   "cell_type": "code",
   "execution_count": 1,
   "metadata": {},
   "outputs": [],
   "source": [
    "import numpy as np\n",
    "import matplotlib.pyplot as plt\n",
    "import copy\n",
    "import math \n",
    "\n",
    "def sigmoid (x):\n",
    "    x2 = copy.deepcopy(x)\n",
    "    ''' Returns sigmoid of x '''\n",
    "    return 1/(1 + np.exp(-x2))     \n",
    "\n",
    "def d_sigmoid(x): \n",
    "    x2 = copy.deepcopy(x)\n",
    "    ''' Returns derivative of sigmoid of x'''\n",
    "    return x2 * (1 - x2)  \n",
    "\n",
    "def relu(x):\n",
    "    \"\"\" Returns ReLU of x \"\"\"\n",
    "    x2 = copy.deepcopy(x)\n",
    "    return np.maximum(0,x2) \n",
    "\n",
    "def d_relu(x):\n",
    "    \"\"\" Returns derivative of ReLU of x \"\"\"\n",
    "    x2 = copy.deepcopy(x)\n",
    "    x2[x2>0] = 1\n",
    "    x2[x2<0] = 0\n",
    "    return x2 "
   ]
  },
  {
   "cell_type": "markdown",
   "metadata": {},
   "source": [
    "# Random Feedback Weights "
   ]
  },
  {
   "cell_type": "code",
   "execution_count": 2,
   "metadata": {},
   "outputs": [],
   "source": [
    "epochs = 60000\n",
    "inputLayerSize, hiddenLayerSize, outputLayerSize = 2, 3, 1\n",
    "\n",
    "## XOR Data\n",
    "x = np.array([[0,0], [0,1], [1,0], [1,1]])\n",
    "y = np.array([ [0],   [1],   [1],   [0]])\n",
    "\n",
    "# weights on layer inputs\n",
    "w0 = np.random.uniform(size=(inputLayerSize, hiddenLayerSize))\n",
    "w1 = np.random.uniform(size=(hiddenLayerSize,outputLayerSize))\n",
    "\n",
    "## fixed random feedback weights \n",
    "b0 = np.random.uniform(size=(inputLayerSize, hiddenLayerSize))\n",
    "b1 = np.random.uniform(size=(hiddenLayerSize,outputLayerSize))\n"
   ]
  },
  {
   "cell_type": "markdown",
   "metadata": {},
   "source": [
    "Fill in code below to train a network with random feedback weights to solve the XOR dataset. You can refer to the Lillicrap Random Feedback Weights paper in the sources folder for additional info. \n",
    "\n",
    "(You can make a simple feedforward network instead of an RNN)"
   ]
  },
  {
   "cell_type": "code",
   "execution_count": 5,
   "metadata": {},
   "outputs": [],
   "source": [
    "for i in range(epochs):\n",
    "    h = sigmoid(np.dot(x, w0))                   # hidden layer \n",
    "    y_ = sigmoid(np.dot(h, w1))                  # output layer \n",
    "    e = y - y_                                   # error \n",
    "    \n",
    "    dy_ = e * d_sigmoid(sigmoid(np.dot(h, b1)))                      # delta output\n",
    "    dh = dy_.dot(w1.T) * d_sigmoid(sigmoid(np.dot(x, b0)))             # delta hidden\n",
    "    \n",
    "    w1 +=  h.T.dot(dy_)                          # update output layer weights\n",
    "    w0 +=  x.T.dot(dh) "
   ]
  },
  {
   "cell_type": "code",
   "execution_count": 6,
   "metadata": {},
   "outputs": [
    {
     "name": "stdout",
     "output_type": "stream",
     "text": [
      "Final error: \n",
      "[[-0.66672721]\n",
      " [ 0.33339696]\n",
      " [ 0.3333924 ]\n",
      " [-0.00689545]]\n",
      "Final y estimate: \n",
      "[[ 0.67]\n",
      " [ 0.67]\n",
      " [ 0.67]\n",
      " [ 0.01]]\n"
     ]
    }
   ],
   "source": [
    "print('Final error: ')\n",
    "print(e)\n",
    "print('Final y estimate: ')\n",
    "print(np.round(y_, 2))                "
   ]
  },
  {
   "cell_type": "markdown",
   "metadata": {},
   "source": [
    "Additional thing to try: implement backpropagation and compare the speed and accuracy over time"
   ]
  },
  {
   "cell_type": "markdown",
   "metadata": {
    "collapsed": true
   },
   "source": [
    "## Three Factor Rules"
   ]
  },
  {
   "cell_type": "markdown",
   "metadata": {},
   "source": [
    "Working memory: Use the rate-based model equations from arxiv paper (in sources folder) and train the network with 3-factor rules to store information for working memory "
   ]
  },
  {
   "cell_type": "code",
   "execution_count": 7,
   "metadata": {},
   "outputs": [
    {
     "data": {
      "image/png": "[encoded data removed]",
      "text/plain": [
       "<matplotlib.figure.Figure at 0x105e6c630>"
      ]
     },
     "metadata": {},
     "output_type": "display_data"
    }
   ],
   "source": [
    "def run_network(v, r, d, L, dt=.001, eta=.0001, time=1000, tau = 1, synapses = 'Plastic'):\n",
    "    stims = list()\n",
    "    for t in range(time):\n",
    "        v = v*(1-dt) + dt*(np.dot(L,r))         ## update voltages \n",
    "        r = relu(v)        ## calculate  firing rates\n",
    "        s =  np.dot(np.transpose(d), r)[0]      ## calculate remembered stimulus value \n",
    "        stims.append(s)\n",
    "        if(synapses=='Plastic'):\n",
    "            drdv = d_relu(r)\n",
    "            E =    np.vdot(d*drdv, (-v + np.dot(L,r)))   ## calculate the error (reminder: ds/dt)\n",
    "            L = L -  2*eta*E*np.transpose(d)*drdv*np.transpose(r)## update synapses  \n",
    "    return stims\n",
    "\n",
    "n = 100 ## neurons\n",
    "n_stim = 1 ## one scalar stimulus \n",
    "\n",
    "## randomly initialize network\n",
    "v = np.random.randn(n, 1)       ## voltages \n",
    "r = relu(v)                     ## firing rates \n",
    "d = abs(np.random.randn(n, n_stim)) ## read out weights\n",
    "L = np.random.randn(n, n)  ## connectivity \n",
    "L = np.divide(L, math.sqrt(n))  ## reduce eigenspectrum \n",
    "stims_plastic = run_network(v, r, d, L, dt=.001, eta=.0001, time=1000, tau = 1, synapses = 'Plastic')\n",
    "stims_constant = run_network(v, r, d, L, dt=.001, eta=.0001, time=1000, tau = 1, synapses = 'Constant')            \n",
    "\n",
    "plt.plot(list(range(len(stims_plastic))), stims_plastic, 'blue')\n",
    "plt.plot(list(range(len(stims_constant))), stims_constant, 'red')\n",
    "plt.show()\n",
    "    \n",
    " "
   ]
  }
 ],
 "metadata": {
  "kernelspec": {
   "display_name": "Python 3",
   "language": "python",
   "name": "python3"
  },
  "language_info": {
   "codemirror_mode": {
    "name": "ipython",
    "version": 3
   },
   "file_extension": ".py",
   "mimetype": "text/x-python",
   "name": "python",
   "nbconvert_exporter": "python",
   "pygments_lexer": "ipython3",
   "version": "3.4.3"
  }
 },
 "nbformat": 4,
 "nbformat_minor": 2
}
